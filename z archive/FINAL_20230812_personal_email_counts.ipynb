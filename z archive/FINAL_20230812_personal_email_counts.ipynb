{
 "cells": [
  {
   "cell_type": "code",
   "execution_count": 5,
   "id": "6e620a9b",
   "metadata": {},
   "outputs": [],
   "source": [
    "import numpy as np\n",
    "import pandas as pd\n",
    "import datetime as dt\n",
    "import os"
   ]
  },
  {
   "cell_type": "code",
   "execution_count": 6,
   "id": "3b540b0d",
   "metadata": {},
   "outputs": [],
   "source": [
    "df = pd.read_csv('/Users/neem8001/Desktop/Friends and family/mSurvey F&F contact list - nielsen employees (1).csv')"
   ]
  },
  {
   "cell_type": "code",
   "execution_count": 7,
   "id": "e01572c4",
   "metadata": {},
   "outputs": [
    {
     "data": {
      "text/plain": [
       "0       True\n",
       "1       True\n",
       "2      False\n",
       "3       True\n",
       "4       True\n",
       "       ...  \n",
       "412     True\n",
       "413    False\n",
       "414    False\n",
       "415    False\n",
       "416     True\n",
       "Name: email, Length: 417, dtype: object"
      ]
     },
     "execution_count": 7,
     "metadata": {},
     "output_type": "execute_result"
    }
   ],
   "source": [
    "df[\"email\"].str.contains(\"nielsen.com\")"
   ]
  },
  {
   "cell_type": "code",
   "execution_count": 8,
   "id": "afece48e",
   "metadata": {},
   "outputs": [],
   "source": [
    "df[\"personal_email\"] = df[\"email\"].str.contains(\"nielsen.com\")*1"
   ]
  },
  {
   "cell_type": "code",
   "execution_count": 9,
   "id": "8410a22f",
   "metadata": {},
   "outputs": [
    {
     "name": "stdout",
     "output_type": "stream",
     "text": [
      "275\n"
     ]
    }
   ],
   "source": [
    "Total = df['personal_email'].sum()\n",
    "print(Total)"
   ]
  },
  {
   "cell_type": "code",
   "execution_count": 12,
   "id": "f226d24b",
   "metadata": {},
   "outputs": [
    {
     "data": {
      "text/plain": [
       "142"
      ]
     },
     "execution_count": 12,
     "metadata": {},
     "output_type": "execute_result"
    }
   ],
   "source": [
    "417-275"
   ]
  },
  {
   "cell_type": "code",
   "execution_count": 10,
   "id": "8c484b5f",
   "metadata": {},
   "outputs": [
    {
     "data": {
      "text/html": [
       "<div>\n",
       "<style scoped>\n",
       "    .dataframe tbody tr th:only-of-type {\n",
       "        vertical-align: middle;\n",
       "    }\n",
       "\n",
       "    .dataframe tbody tr th {\n",
       "        vertical-align: top;\n",
       "    }\n",
       "\n",
       "    .dataframe thead th {\n",
       "        text-align: right;\n",
       "    }\n",
       "</style>\n",
       "<table border=\"1\" class=\"dataframe\">\n",
       "  <thead>\n",
       "    <tr style=\"text-align: right;\">\n",
       "      <th></th>\n",
       "      <th>first_name</th>\n",
       "      <th>last_name</th>\n",
       "      <th>email</th>\n",
       "      <th>phone</th>\n",
       "      <th>address_1</th>\n",
       "      <th>address_2</th>\n",
       "      <th>city</th>\n",
       "      <th>state</th>\n",
       "      <th>zip</th>\n",
       "      <th>Unnamed: 9</th>\n",
       "      <th>personal_email</th>\n",
       "    </tr>\n",
       "  </thead>\n",
       "  <tbody>\n",
       "    <tr>\n",
       "      <th>0</th>\n",
       "      <td>Ryan</td>\n",
       "      <td>Baer</td>\n",
       "      <td>ryan.a.baer@nielsen.com</td>\n",
       "      <td>4435614976</td>\n",
       "      <td>506 Brentwood Ave</td>\n",
       "      <td>NaN</td>\n",
       "      <td>Severna Park</td>\n",
       "      <td>MD</td>\n",
       "      <td>21146</td>\n",
       "      <td>NaN</td>\n",
       "      <td>1</td>\n",
       "    </tr>\n",
       "    <tr>\n",
       "      <th>1</th>\n",
       "      <td>Maria</td>\n",
       "      <td>Carfora</td>\n",
       "      <td>maria.carfora@nielsen.com</td>\n",
       "      <td>2033145704</td>\n",
       "      <td>77 Rentell Rd</td>\n",
       "      <td>NaN</td>\n",
       "      <td>Hamden</td>\n",
       "      <td>CT</td>\n",
       "      <td>6514</td>\n",
       "      <td>NaN</td>\n",
       "      <td>1</td>\n",
       "    </tr>\n",
       "    <tr>\n",
       "      <th>2</th>\n",
       "      <td>Ross</td>\n",
       "      <td>DeMike</td>\n",
       "      <td>rossjdm@gmail.com</td>\n",
       "      <td>9414165893</td>\n",
       "      <td>5831 Meadows Dr APT E</td>\n",
       "      <td>NaN</td>\n",
       "      <td>Fort Wayne</td>\n",
       "      <td>IN</td>\n",
       "      <td>46804-7651</td>\n",
       "      <td>NaN</td>\n",
       "      <td>0</td>\n",
       "    </tr>\n",
       "    <tr>\n",
       "      <th>3</th>\n",
       "      <td>Karen</td>\n",
       "      <td>Gavigan</td>\n",
       "      <td>karen.gavigan@nielsen.com</td>\n",
       "      <td>4439627670</td>\n",
       "      <td>7892 Poplar Grove Rd</td>\n",
       "      <td>NaN</td>\n",
       "      <td>Severn</td>\n",
       "      <td>Maryland</td>\n",
       "      <td>21144-2023</td>\n",
       "      <td>NaN</td>\n",
       "      <td>1</td>\n",
       "    </tr>\n",
       "    <tr>\n",
       "      <th>4</th>\n",
       "      <td>Kimberly</td>\n",
       "      <td>Hawkins</td>\n",
       "      <td>kimberly.hawkins@nielsen.com</td>\n",
       "      <td>7277988625</td>\n",
       "      <td>18005 US 301</td>\n",
       "      <td>NaN</td>\n",
       "      <td>Dade City</td>\n",
       "      <td>FL</td>\n",
       "      <td>33523</td>\n",
       "      <td>NaN</td>\n",
       "      <td>1</td>\n",
       "    </tr>\n",
       "  </tbody>\n",
       "</table>\n",
       "</div>"
      ],
      "text/plain": [
       "  first_name last_name                         email       phone  \\\n",
       "0       Ryan      Baer       ryan.a.baer@nielsen.com  4435614976   \n",
       "1      Maria   Carfora     maria.carfora@nielsen.com  2033145704   \n",
       "2       Ross    DeMike             rossjdm@gmail.com  9414165893   \n",
       "3      Karen   Gavigan     karen.gavigan@nielsen.com  4439627670   \n",
       "4   Kimberly   Hawkins  kimberly.hawkins@nielsen.com  7277988625   \n",
       "\n",
       "               address_1 address_2          city     state         zip  \\\n",
       "0      506 Brentwood Ave       NaN  Severna Park        MD       21146   \n",
       "1          77 Rentell Rd       NaN        Hamden        CT        6514   \n",
       "2  5831 Meadows Dr APT E       NaN    Fort Wayne        IN  46804-7651   \n",
       "3   7892 Poplar Grove Rd       NaN        Severn  Maryland  21144-2023   \n",
       "4           18005 US 301       NaN     Dade City        FL       33523   \n",
       "\n",
       "  Unnamed: 9 personal_email  \n",
       "0        NaN              1  \n",
       "1        NaN              1  \n",
       "2        NaN              0  \n",
       "3        NaN              1  \n",
       "4        NaN              1  "
      ]
     },
     "execution_count": 10,
     "metadata": {},
     "output_type": "execute_result"
    }
   ],
   "source": [
    "df.head()"
   ]
  },
  {
   "cell_type": "code",
   "execution_count": 11,
   "id": "34f18ad1",
   "metadata": {},
   "outputs": [],
   "source": [
    "df.to_csv('updated_contact_list_with_personalemails.csv', index=False)"
   ]
  },
  {
   "cell_type": "code",
   "execution_count": null,
   "id": "57341e2c",
   "metadata": {},
   "outputs": [],
   "source": []
  }
 ],
 "metadata": {
  "kernelspec": {
   "display_name": "Python 3 (ipykernel)",
   "language": "python",
   "name": "python3"
  },
  "language_info": {
   "codemirror_mode": {
    "name": "ipython",
    "version": 3
   },
   "file_extension": ".py",
   "mimetype": "text/x-python",
   "name": "python",
   "nbconvert_exporter": "python",
   "pygments_lexer": "ipython3",
   "version": "3.10.9"
  }
 },
 "nbformat": 4,
 "nbformat_minor": 5
}
