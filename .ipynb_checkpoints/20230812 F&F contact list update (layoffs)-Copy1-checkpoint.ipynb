{
 "cells": [
  {
   "cell_type": "code",
   "execution_count": 1,
   "id": "9b1042a6",
   "metadata": {},
   "outputs": [],
   "source": [
    "import numpy as np\n",
    "import pandas as pd\n",
    "import datetime as dt\n",
    "import os"
   ]
  },
  {
   "cell_type": "code",
   "execution_count": 2,
   "id": "a87cbd74",
   "metadata": {},
   "outputs": [],
   "source": [
    "df = pd.read_csv('/Users/neem8001/Desktop/Friends and family/mSurvey F&F contact list - nielsen employees (1).csv')"
   ]
  },
  {
   "cell_type": "code",
   "execution_count": 4,
   "id": "01c09d4b",
   "metadata": {},
   "outputs": [
    {
     "data": {
      "text/plain": [
       "0       True\n",
       "1       True\n",
       "2      False\n",
       "3       True\n",
       "4       True\n",
       "       ...  \n",
       "412     True\n",
       "413    False\n",
       "414    False\n",
       "415    False\n",
       "416     True\n",
       "Name: email, Length: 417, dtype: object"
      ]
     },
     "execution_count": 4,
     "metadata": {},
     "output_type": "execute_result"
    }
   ],
   "source": [
    "df[\"email\"].str.contains(\"nielsen.com\")"
   ]
  },
  {
   "cell_type": "code",
   "execution_count": 8,
   "id": "59c06b41",
   "metadata": {},
   "outputs": [],
   "source": [
    "df[\"personal_email\"] = df[\"email\"].str.contains(\"nielsen.com\")*1"
   ]
  },
  {
   "cell_type": "code",
   "execution_count": 11,
   "id": "bfafc984",
   "metadata": {},
   "outputs": [
    {
     "name": "stdout",
     "output_type": "stream",
     "text": [
      "275\n"
     ]
    }
   ],
   "source": [
    "Total = df['personal_email'].sum()\n",
    "print(Total)"
   ]
  },
  {
   "cell_type": "code",
   "execution_count": 16,
   "id": "33eed0d9",
   "metadata": {},
   "outputs": [
    {
     "data": {
      "text/plain": [
       "1    275\n",
       "0    140\n",
       "Name: personal_email, dtype: int64"
      ]
     },
     "execution_count": 16,
     "metadata": {},
     "output_type": "execute_result"
    }
   ],
   "source": [
    "df['personal_email'].value_counts()"
   ]
  },
  {
   "cell_type": "code",
   "execution_count": 18,
   "id": "dfc15928",
   "metadata": {},
   "outputs": [
    {
     "data": {
      "text/plain": [
       "415"
      ]
     },
     "execution_count": 18,
     "metadata": {},
     "output_type": "execute_result"
    }
   ],
   "source": [
    "275+140"
   ]
  },
  {
   "cell_type": "code",
   "execution_count": null,
   "id": "50df02cf",
   "metadata": {},
   "outputs": [],
   "source": []
  }
 ],
 "metadata": {
  "kernelspec": {
   "display_name": "Python 3 (ipykernel)",
   "language": "python",
   "name": "python3"
  },
  "language_info": {
   "codemirror_mode": {
    "name": "ipython",
    "version": 3
   },
   "file_extension": ".py",
   "mimetype": "text/x-python",
   "name": "python",
   "nbconvert_exporter": "python",
   "pygments_lexer": "ipython3",
   "version": "3.10.9"
  }
 },
 "nbformat": 4,
 "nbformat_minor": 5
}
