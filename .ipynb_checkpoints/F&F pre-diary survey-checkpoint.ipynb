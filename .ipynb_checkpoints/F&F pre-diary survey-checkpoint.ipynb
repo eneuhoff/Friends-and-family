{
 "cells": [
  {
   "cell_type": "code",
   "execution_count": 1,
   "id": "75e81dae",
   "metadata": {},
   "outputs": [],
   "source": [
    "import numpy as np\n",
    "import pandas as pd\n",
    "import datetime as dt\n",
    "import logging\n",
    "import os\n",
    "from pathlib import Path\n",
    "import io\n",
    "import json\n",
    "import zipfile\n",
    "import requests"
   ]
  },
  {
   "cell_type": "code",
   "execution_count": 2,
   "id": "bd71259d",
   "metadata": {},
   "outputs": [],
   "source": [
    "def get_qualtrics_survey(use_labels=True):\n",
    "    \"\"\"Export Qualtrics Survey Responses via API Call According to the Documentation.\n",
    "\n",
    "    Input\n",
    "    :param survey_id: Qualtrics ID for Survey to export.\n",
    "    \"\"\"\n",
    "    surveyId = \"SV_bgdX5pKxlSVvNRk\"\n",
    "    fileFormat = \"csv\"\n",
    "    dataCenter = \"nielsenscarborough.iad1\"\n",
    "    apiToken = \"gZRjDAnNzFDDO7kuV8HDXI9GPG2xMg1rUhDOsu5I\"\n",
    "\n",
    "    # Setting static parameters\n",
    "    requestCheckProgress = 0.0\n",
    "    progressStatus = \"inProgress\"\n",
    "    baseUrl = \"https://{0}.qualtrics.com/API/v3/surveys/{1}/export-responses/\".format(\n",
    "        dataCenter, surveyId\n",
    "    )\n",
    "    headers = {\n",
    "        \"content-type\": \"application/json\",\n",
    "        \"x-api-token\": apiToken,\n",
    "    }\n",
    "\n",
    "    # Step 1: Creating Data Export\n",
    "    downloadRequestUrl = baseUrl\n",
    "    downloadRequestPayload = {\"format\": fileFormat, \"useLabels\": use_labels}\n",
    "\n",
    "    downloadRequestPayload = json.dumps(downloadRequestPayload)\n",
    "\n",
    "    downloadRequestResponse = requests.request(\n",
    "        \"POST\", downloadRequestUrl, data=downloadRequestPayload, headers=headers\n",
    "    )\n",
    "    progressId = downloadRequestResponse.json()[\"result\"][\"progressId\"]\n",
    "    print(downloadRequestResponse.text)\n",
    "\n",
    "    # Step 2: Checking on Data Export Progress and waiting until export is ready\n",
    "    while progressStatus != \"complete\" and progressStatus != \"failed\":\n",
    "        print(\"progressStatus = \" + progressStatus)\n",
    "        requestCheckUrl = baseUrl + progressId\n",
    "        requestCheckResponse = requests.request(\"GET\", requestCheckUrl, headers=headers)\n",
    "        requestCheckProgress = requestCheckResponse.json()[\"result\"][\"percentComplete\"]\n",
    "        print(\"Download is \" + str(requestCheckProgress) + \" complete\")\n",
    "        progressStatus = requestCheckResponse.json()[\"result\"][\"status\"]\n",
    "\n",
    "    # step 2.1: Check for error\n",
    "    if progressStatus == \"failed\":\n",
    "        raise Exception(\"export failed\")\n",
    "\n",
    "    fileId = requestCheckResponse.json()[\"result\"][\"fileId\"]\n",
    "\n",
    "    # Step 3: Downloading file\n",
    "    requestDownloadUrl = baseUrl + fileId + \"/file\"\n",
    "    requestDownload = requests.request(\n",
    "        \"GET\", requestDownloadUrl, headers=headers, stream=True\n",
    "    )\n",
    "\n",
    "    # Step 4: Unzipping the file and read as pandas dataframe\n",
    "    print(\"Reading zip to pandas\")\n",
    "    r_zip = zipfile.ZipFile(io.BytesIO(requestDownload.content))\n",
    "    df = pd.read_csv(r_zip.open(r_zip.namelist()[0]), sep=\",\", dtype=str)\n",
    "    print(\"Successfully read from API into Pandas dataframe\")\n",
    "    return df"
   ]
  },
  {
   "cell_type": "code",
   "execution_count": 3,
   "id": "a8140ba5",
   "metadata": {},
   "outputs": [
    {
     "name": "stdout",
     "output_type": "stream",
     "text": [
      "{\"result\":{\"progressId\":\"ES_1HQt5qCOILjaEYu\",\"percentComplete\":0.0,\"status\":\"inProgress\"},\"meta\":{\"requestId\":\"442946ee-3174-4f1d-9d03-1c5a6d7c0b61\",\"httpStatus\":\"200 - OK\"}}\n",
      "progressStatus = inProgress\n",
      "Download is 0.0 complete\n",
      "progressStatus = inProgress\n",
      "Download is 0.0 complete\n",
      "progressStatus = inProgress\n",
      "Download is 0.0 complete\n",
      "progressStatus = inProgress\n",
      "Download is 100.0 complete\n",
      "Reading zip to pandas\n",
      "Successfully read from API into Pandas dataframe\n"
     ]
    }
   ],
   "source": [
    "df=get_qualtrics_survey()"
   ]
  },
  {
   "cell_type": "code",
   "execution_count": 4,
   "id": "9447443b",
   "metadata": {},
   "outputs": [],
   "source": [
    "qualtrics_df=df"
   ]
  },
  {
   "cell_type": "code",
   "execution_count": 5,
   "id": "6d24ad64",
   "metadata": {},
   "outputs": [],
   "source": [
    "qualtrics_df.drop([0,1], axis=0, inplace=True)"
   ]
  },
  {
   "cell_type": "code",
   "execution_count": 6,
   "id": "fe4e6ccb",
   "metadata": {},
   "outputs": [],
   "source": [
    "clean_df=qualtrics_df.drop(columns=['StartDate', 'ResponseId','EndDate', 'Status','IPAddress', 'Progress', 'Duration (in seconds)', 'Finished', 'RecordedDate', 'ExternalReference', 'LocationLatitude', 'LocationLongitude', 'DistributionChannel', 'UserLanguage'])"
   ]
  },
  {
   "cell_type": "code",
   "execution_count": 7,
   "id": "7d8baf78",
   "metadata": {},
   "outputs": [],
   "source": [
    "clean_df.to_csv('/Users/neem8001/Library/CloudStorage/GoogleDrive-emily.neuhoff@nielsen.com/Shared drives/Audio Diary Transformation/mSurvey/DSci/Qualitative research/(II) Actual prototype qualitative testing/v1.0/Data/clean_df.csv', index=False)  "
   ]
  },
  {
   "cell_type": "code",
   "execution_count": 8,
   "id": "abac38bd",
   "metadata": {},
   "outputs": [],
   "source": [
    "email_reminders=qualtrics_df.loc[qualtrics_df['preferred_contact'] == 'Email']\n",
    "text_reminders=qualtrics_df.loc[qualtrics_df['preferred_contact'] == 'Text message']"
   ]
  },
  {
   "cell_type": "code",
   "execution_count": 9,
   "id": "891a516a",
   "metadata": {},
   "outputs": [],
   "source": [
    "email_reminders = email_reminders[[\"RecipientFirstName\",\"RecipientLastName\",\"contact_email\", \"preferred_contact\"]] \n",
    "text_reminders = text_reminders[[\"RecipientFirstName\",\"RecipientLastName\",\"contact_phone\", \"preferred_contact\"]]"
   ]
  },
  {
   "cell_type": "code",
   "execution_count": 10,
   "id": "c5eb3c29",
   "metadata": {},
   "outputs": [],
   "source": [
    "email_reminders.to_csv('/Users/neem8001/Library/CloudStorage/GoogleDrive-emily.neuhoff@nielsen.com/Shared drives/Audio Diary Transformation/mSurvey/DSci/Qualitative research/(II) Actual prototype qualitative testing/v1.0/Data/email_reminders.csv', index=False)  \n"
   ]
  },
  {
   "cell_type": "code",
   "execution_count": 11,
   "id": "53e405cc",
   "metadata": {},
   "outputs": [],
   "source": [
    "text_reminders.to_csv('/Users/neem8001/Library/CloudStorage/GoogleDrive-emily.neuhoff@nielsen.com/Shared drives/Audio Diary Transformation/mSurvey/DSci/Qualitative research/(II) Actual prototype qualitative testing/v1.0/Data/text_reminders.csv', index=False) "
   ]
  },
  {
   "cell_type": "code",
   "execution_count": 12,
   "id": "2049d6f1",
   "metadata": {},
   "outputs": [
    {
     "data": {
      "text/plain": [
       "True    8\n",
       "Name: Finished, dtype: int64"
      ]
     },
     "execution_count": 12,
     "metadata": {},
     "output_type": "execute_result"
    }
   ],
   "source": [
    "qualtrics_df['Finished'].value_counts()"
   ]
  },
  {
   "cell_type": "code",
   "execution_count": null,
   "id": "8767445d",
   "metadata": {},
   "outputs": [],
   "source": []
  },
  {
   "cell_type": "code",
   "execution_count": null,
   "id": "f6d3a48a",
   "metadata": {},
   "outputs": [],
   "source": []
  }
 ],
 "metadata": {
  "kernelspec": {
   "display_name": "Python 3 (ipykernel)",
   "language": "python",
   "name": "python3"
  },
  "language_info": {
   "codemirror_mode": {
    "name": "ipython",
    "version": 3
   },
   "file_extension": ".py",
   "mimetype": "text/x-python",
   "name": "python",
   "nbconvert_exporter": "python",
   "pygments_lexer": "ipython3",
   "version": "3.10.9"
  }
 },
 "nbformat": 4,
 "nbformat_minor": 5
}
