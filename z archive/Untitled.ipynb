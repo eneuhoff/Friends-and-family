{
 "cells": [
  {
   "cell_type": "code",
   "execution_count": 3,
   "id": "350f6be0",
   "metadata": {},
   "outputs": [],
   "source": [
    "import numpy as np\n",
    "import pandas as pd\n",
    "import datetime as dt\n",
    "import logging\n",
    "import os\n",
    "from pathlib import Path\n",
    "import io\n",
    "import json\n",
    "import zipfile\n",
    "import requests"
   ]
  },
  {
   "cell_type": "code",
   "execution_count": null,
   "id": "546ecbd5",
   "metadata": {},
   "outputs": [],
   "source": [
    "/Users/neem8001/Desktop/Friends and family/mSurvey F&F contact list - qualtrics pre survey contact list.csv"
   ]
  },
  {
   "cell_type": "code",
   "execution_count": 15,
   "id": "978546be",
   "metadata": {},
   "outputs": [
    {
     "name": "stdout",
     "output_type": "stream",
     "text": [
      "    first_name      last_name                           email       phone  \\\n",
      "0         Ryan           Baer         ryan.a.baer@nielsen.com  4435614976   \n",
      "1        Maria        Carfora       maria.carfora@nielsen.com  2033145704   \n",
      "2         Ross         DeMike               rossjdm@gmail.com  9414165893   \n",
      "3        Karen        Gavigan       karen.gavigan@nielsen.com  4439627670   \n",
      "4     Kimberly        Hawkins    kimberly.hawkins@nielsen.com  7277988625   \n",
      "..         ...            ...                             ...         ...   \n",
      "412      Laura  Cantu Carroll  Laura.cantucarroll@nielsen.com  2102027145   \n",
      "413      Henri        Orantes         henri.orantes@gmail.com  3012675823   \n",
      "414       Jose      Sotomayor         sotomayor.inc@gmail.com  8328157113   \n",
      "415    Jessica          Clark            clarkje562@gmail.com  5627548013   \n",
      "416   Miranda          Nelson      miranda.nelson@nielsen.com  8439901744   \n",
      "\n",
      "                    address_1 address_2           city     state         zip  \\\n",
      "0           506 Brentwood Ave       NaN   Severna Park        MD       21146   \n",
      "1               77 Rentell Rd       NaN         Hamden        CT        6514   \n",
      "2       5831 Meadows Dr APT E       NaN     Fort Wayne        IN  46804-7651   \n",
      "3        7892 Poplar Grove Rd       NaN         Severn  Maryland  21144-2023   \n",
      "4                18005 US 301       NaN      Dade City        FL       33523   \n",
      "..                        ...       ...            ...       ...         ...   \n",
      "412             1910 Kyle Way       NaN  New Braunfels        Tx       78130   \n",
      "413    16305 Pond Meadow Lane       NaN          Bowie        MD       20716   \n",
      "414  10219 BRIAR FOREST DRIVE       NaN        HOUSTON        TX       77042   \n",
      "415        12350 Del Amo Blvd      2415       Lakewood        CA       90715   \n",
      "416            1001 E Park St       22A     Carbondale        IL       62901   \n",
      "\n",
      "    Unnamed: 9  \n",
      "0          NaN  \n",
      "1          NaN  \n",
      "2          NaN  \n",
      "3          NaN  \n",
      "4          NaN  \n",
      "..         ...  \n",
      "412        NaN  \n",
      "413        NaN  \n",
      "414        NaN  \n",
      "415        NaN  \n",
      "416        NaN  \n",
      "\n",
      "[417 rows x 10 columns]\n"
     ]
    }
   ],
   "source": [
    "df = pd.read_csv(r'/Users/neem8001/Desktop/Friends and family/mSurvey F&F contact list - qualtrics pre survey contact list.csv')\n",
    "print(df)"
   ]
  },
  {
   "cell_type": "code",
   "execution_count": 20,
   "id": "0c4331c0",
   "metadata": {},
   "outputs": [],
   "source": [
    "states = pd.read_csv(r'/Users/neem8001/Desktop/Friends and family/states_abbrevs.csv',index_col=False)"
   ]
  },
  {
   "cell_type": "code",
   "execution_count": null,
   "id": "17bc4fc6",
   "metadata": {},
   "outputs": [],
   "source": []
  },
  {
   "cell_type": "code",
   "execution_count": null,
   "id": "ed5ecb30",
   "metadata": {},
   "outputs": [],
   "source": []
  }
 ],
 "metadata": {
  "kernelspec": {
   "display_name": "Python 3 (ipykernel)",
   "language": "python",
   "name": "python3"
  },
  "language_info": {
   "codemirror_mode": {
    "name": "ipython",
    "version": 3
   },
   "file_extension": ".py",
   "mimetype": "text/x-python",
   "name": "python",
   "nbconvert_exporter": "python",
   "pygments_lexer": "ipython3",
   "version": "3.10.9"
  }
 },
 "nbformat": 4,
 "nbformat_minor": 5
}
