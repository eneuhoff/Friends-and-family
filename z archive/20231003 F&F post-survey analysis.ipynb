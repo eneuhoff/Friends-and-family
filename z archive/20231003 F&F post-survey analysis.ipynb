{
 "cells": [
  {
   "cell_type": "code",
   "execution_count": null,
   "id": "05f6d69c",
   "metadata": {},
   "outputs": [],
   "source": [
    "import numpy as np\n",
    "import pandas as pd\n",
    "import datetime as dt\n",
    "import logging\n",
    "import os\n",
    "from pathlib import Path\n",
    "import io\n",
    "import json\n",
    "import zipfile\n",
    "import requests"
   ]
  },
  {
   "cell_type": "code",
   "execution_count": null,
   "id": "c6532d6c",
   "metadata": {},
   "outputs": [],
   "source": [
    "def get_qualtrics_survey(use_labels=True):\n",
    "    \"\"\"Export Qualtrics Survey Responses via API Call According to the Documentation.\n",
    "\n",
    "    Input\n",
    "    :param survey_id: Qualtrics ID for Survey to export.\n",
    "    \"\"\"\n",
    "    surveyId = #\"SV_8iwwlvdP2dqQWZU\" Update this field\n",
    "    fileFormat = \"csv\"\n",
    "    dataCenter = \"nielsenscarborough.iad1\"\n",
    "    apiToken = \"gZRjDAnNzFDDO7kuV8HDXI9GPG2xMg1rUhDOsu5I\"\n",
    "\n",
    "    # Setting static parameters\n",
    "    requestCheckProgress = 0.0\n",
    "    progressStatus = \"inProgress\"\n",
    "    baseUrl = \"https://{0}.qualtrics.com/API/v3/surveys/{1}/export-responses/\".format(\n",
    "        dataCenter, surveyId\n",
    "    )\n",
    "    headers = {\n",
    "        \"content-type\": \"application/json\",\n",
    "        \"x-api-token\": apiToken,\n",
    "    }\n",
    "\n",
    "    # Step 1: Creating Data Export\n",
    "    downloadRequestUrl = baseUrl\n",
    "    downloadRequestPayload = {\"format\": fileFormat, \"useLabels\": use_labels}\n",
    "\n",
    "    downloadRequestPayload = json.dumps(downloadRequestPayload)\n",
    "\n",
    "    downloadRequestResponse = requests.request(\n",
    "        \"POST\", downloadRequestUrl, data=downloadRequestPayload, headers=headers\n",
    "    )\n",
    "    progressId = downloadRequestResponse.json()[\"result\"][\"progressId\"]\n",
    "    print(downloadRequestResponse.text)\n",
    "\n",
    "    # Step 2: Checking on Data Export Progress and waiting until export is ready\n",
    "    while progressStatus != \"complete\" and progressStatus != \"failed\":\n",
    "        print(\"progressStatus = \" + progressStatus)\n",
    "        requestCheckUrl = baseUrl + progressId\n",
    "        requestCheckResponse = requests.request(\"GET\", requestCheckUrl, headers=headers)\n",
    "        requestCheckProgress = requestCheckResponse.json()[\"result\"][\"percentComplete\"]\n",
    "        print(\"Download is \" + str(requestCheckProgress) + \" complete\")\n",
    "        progressStatus = requestCheckResponse.json()[\"result\"][\"status\"]\n",
    "\n",
    "    # step 2.1: Check for error\n",
    "    if progressStatus == \"failed\":\n",
    "        raise Exception(\"export failed\")\n",
    "\n",
    "    fileId = requestCheckResponse.json()[\"result\"][\"fileId\"]\n",
    "\n",
    "    # Step 3: Downloading file\n",
    "    requestDownloadUrl = baseUrl + fileId + \"/file\"\n",
    "    requestDownload = requests.request(\n",
    "        \"GET\", requestDownloadUrl, headers=headers, stream=True\n",
    "    )\n",
    "\n",
    "    # Step 4: Unzipping the file and read as pandas dataframe\n",
    "    print(\"Reading zip to pandas\")\n",
    "    r_zip = zipfile.ZipFile(io.BytesIO(requestDownload.content))\n",
    "    df = pd.read_csv(r_zip.open(r_zip.namelist()[0]), sep=\",\", dtype=str)\n",
    "    print(\"Successfully read from API into Pandas dataframe\")\n",
    "    return df"
   ]
  },
  {
   "cell_type": "code",
   "execution_count": null,
   "id": "cf1fb7bd",
   "metadata": {},
   "outputs": [],
   "source": [
    "df.drop([0,1], axis=0, inplace=True)"
   ]
  },
  {
   "cell_type": "code",
   "execution_count": null,
   "id": "0951cf02",
   "metadata": {},
   "outputs": [],
   "source": [
    "df['overall_exp'].value_counts()"
   ]
  },
  {
   "cell_type": "code",
   "execution_count": null,
   "id": "ab372b8d",
   "metadata": {},
   "outputs": [],
   "source": [
    "df['materials_login'].value_counts()"
   ]
  }
 ],
 "metadata": {
  "kernelspec": {
   "display_name": "Python 3 (ipykernel)",
   "language": "python",
   "name": "python3"
  },
  "language_info": {
   "codemirror_mode": {
    "name": "ipython",
    "version": 3
   },
   "file_extension": ".py",
   "mimetype": "text/x-python",
   "name": "python",
   "nbconvert_exporter": "python",
   "pygments_lexer": "ipython3",
   "version": "3.10.9"
  }
 },
 "nbformat": 4,
 "nbformat_minor": 5
}
